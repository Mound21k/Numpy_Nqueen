{
 "cells": [
  {
   "cell_type": "markdown",
   "id": "82e55987",
   "metadata": {}
  },
  {
   "cell_type": "markdown",
   "id": "ab4776c4",
   "metadata": {},
   "source": [
    "###### This version of numba runs with numpy version 1.21 or less"
   ]
  },
  {
   "cell_type": "markdown",
   "id": "a76c9bb1",
   "metadata": {},
   "source": [
    "### Importing Dependencies"
   ]
  },
  {
   "cell_type": "code",
   "execution_count": 2,
   "id": "c1ce1b33",
   "metadata": {},
   "outputs": [],
   "source": [
    "import numpy as np\n",
    "from numba import jit\n",
    "from random import randint as rnd\n",
    "import time"
   ]
  },
  {
   "cell_type": "markdown",
   "id": "44778e8b",
   "metadata": {},
   "source": [
    "### Setting the Problem and Algorithm Parametrs"
   ]
  },
  {
   "cell_type": "code",
   "execution_count": 3,
   "id": "11944416",
   "metadata": {},
   "outputs": [],
   "source": [
    "N = 10\n",
    "MAX_POPULATION = 2000\n",
    "MUTATION_RATE = 0.8\n",
    "EPOCH = 200"
   ]
  },
  {
   "cell_type": "markdown",
   "id": "91819afb",
   "metadata": {},
   "source": [
    "### Initial Population function"
   ]
  },
  {
   "cell_type": "code",
   "execution_count": 4,
   "id": "7aa2ffb3",
   "metadata": {},
   "outputs": [],
   "source": [
    "def init_population(n, p):\n",
    "    population_list = np.random.randint(n, size=(p*2,n+1))\n",
    "    population_list[:,n]=0\n",
    "    return population_list"
   ]
  },
  {
   "cell_type": "markdown",
   "id": "28dc35eb",
   "metadata": {},
   "source": [
    "### Cross Over Function"
   ]
  },
  {
   "cell_type": "code",
   "execution_count": 5,
   "id": "f65aa1fa",
   "metadata": {},
   "outputs": [],
   "source": [
    "@jit\n",
    "def cross_over(population_list, n, p):\n",
    "    half = n//2\n",
    "    for i in range(0,p,2):\n",
    "        child1 = np.concatenate((population_list[i][:half], population_list[i+1][half:]))\n",
    "        child2 = np.concatenate((population_list[i+1][:half], population_list[i][half:]))\n",
    "        population_list[p+i]=child1\n",
    "        population_list[p+i+1]=child2\n",
    "    return population_list"
   ]
  },
  {
   "cell_type": "markdown",
   "id": "5cc7d5e6",
   "metadata": {},
   "source": [
    "### Mutation Function"
   ]
  },
  {
   "cell_type": "code",
   "execution_count": 6,
   "id": "0b336def",
   "metadata": {},
   "outputs": [],
   "source": [
    "def mutation(population_list, n, p, m):\n",
    "    choosen_ones = np.arange(p,p*2)\n",
    "    np.random.shuffle(choosen_ones)\n",
    "    last_cel = int(p*m)\n",
    "    for i in range(last_cel):\n",
    "        cell = rnd(0,n-1)\n",
    "        population_list[choosen_ones[i]][cell]=rnd(0,n-1)\n",
    "    return population_list"
   ]
  },
  {
   "cell_type": "markdown",
   "id": "3a614b72",
   "metadata": {},
   "source": [
    "### Fitness Function"
   ]
  },
  {
   "cell_type": "code",
   "execution_count": 7,
   "id": "9aaee3f8",
   "metadata": {},
   "outputs": [],
   "source": [
    "@jit\n",
    "def fitness(population_list, n, p):\n",
    "    length = len(population_list)\n",
    "    for i in range(length):\n",
    "        collision = 0\n",
    "        for j in range(n):\n",
    "            for k in range(j+1,n):\n",
    "                if population_list[i][j]==population_list[i][k]:\n",
    "                    collision+=1\n",
    "                if abs(population_list[i][j]-population_list[i][k])==abs(j-k):\n",
    "                    collision+=1\n",
    "        population_list[i][n]=collision\n",
    "    return population_list"
   ]
  },
  {
   "cell_type": "markdown",
   "id": "e7d87b44",
   "metadata": {},
   "source": [
    "### Main"
   ]
  },
  {
   "cell_type": "code",
   "execution_count": 8,
   "id": "d760d8b5",
   "metadata": {
    "scrolled": true
   },
   "outputs": [
    {
     "name": "stdout",
     "output_type": "stream",
     "text": [
      "1 Best Solution so far: [2 4 6 8 3 0 7 3 1 9 2]\n",
      "2 Best Solution so far: [2 4 6 8 3 0 7 3 1 9 2]\n",
      "3 Best Solution so far: [2 4 6 8 3 0 7 3 1 9 2]\n",
      "4 Best Solution so far: [2 4 6 8 3 0 7 3 1 9 2]\n",
      "5 Best Solution so far: [2 4 6 8 3 0 7 3 1 9 2]\n",
      "6 Best Solution so far: [4 1 3 0 6 8 5 2 0 7 1]\n",
      "7 Best Solution so far: [4 1 3 0 6 8 5 2 0 7 1]\n",
      "8 Best Solution so far: [4 1 3 0 6 8 5 2 0 7 1]\n",
      "9 Best Solution so far: [4 1 3 0 6 8 5 2 0 7 1]\n",
      "10 Best Solution so far: [4 1 3 0 6 8 5 2 0 7 1]\n",
      "11 Best Solution so far: [4 1 3 0 6 8 5 2 0 7 1]\n",
      "12 Best Solution so far: [4 1 3 0 6 8 5 2 0 7 1]\n",
      "13 Best Solution so far: [4 1 3 0 6 8 5 2 0 7 1]\n",
      "14 Best Solution so far: [4 1 3 0 6 8 5 2 0 7 1]\n",
      "15 Best Solution so far: [4 1 3 0 6 8 5 2 0 7 1]\n",
      "16 Best Solution so far: [4 1 3 0 6 8 5 2 0 7 1]\n",
      "17 Best Solution so far: [4 1 3 0 6 8 5 2 0 7 1]\n",
      "18 Best Solution so far: [4 1 3 0 6 8 5 2 0 7 1]\n",
      "19 Best Solution so far: [4 1 3 0 6 8 5 2 0 7 1]\n",
      "20 Best Solution so far: [4 1 3 0 6 8 5 2 0 7 1]\n",
      "21 Best Solution so far: [4 1 3 0 6 8 5 2 0 7 1]\n",
      "22 Best Solution so far: [4 1 3 0 6 8 5 2 0 7 1]\n",
      "23 Best Solution so far: [4 1 3 0 6 8 5 2 0 7 1]\n",
      "24 Best Solution so far: [4 1 3 0 6 8 5 2 0 7 1]\n",
      "25 Best Solution so far: [4 1 3 0 6 8 5 2 0 7 1]\n",
      "26 Best Solution so far: [4 1 3 0 6 8 5 2 0 7 1]\n",
      "27 Best Solution so far: [4 1 3 0 6 8 5 2 0 7 1]\n",
      "28 Best Solution so far: [4 1 3 0 6 8 5 2 0 7 1]\n",
      "29 Solution Found: [6 4 9 0 5 3 1 7 2 8 0]\n",
      "Took: 1.3745880126953125\n"
     ]
    }
   ],
   "source": [
    "start = time.time()\n",
    "current_population = init_population(N, MAX_POPULATION)\n",
    "current_population = fitness(current_population, N, MAX_POPULATION)\n",
    "current_population = current_population[current_population[:,N].argsort()]\n",
    "if current_population[MAX_POPULATION][-1]==0:\n",
    "    print(\"Solution was Found in the Initial population phase:\",current_population[0])\n",
    "else:\n",
    "    while EPOCH:\n",
    "        current_population = cross_over(current_population, N, MAX_POPULATION)\n",
    "        current_population = mutation(current_population, N, MAX_POPULATION, MUTATION_RATE)\n",
    "        current_population = fitness(current_population, N, MAX_POPULATION)\n",
    "        current_population = current_population[current_population[:,N].argsort()]\n",
    "        current_population[MAX_POPULATION:]=np.zeros((MAX_POPULATION,N+1))\n",
    "        if current_population[0][-1]==0:\n",
    "                print(200-EPOCH+1,\"Solution Found:\",current_population[0])\n",
    "                break\n",
    "        else:\n",
    "            print(200-EPOCH+1,\"Best Solution so far:\",current_population[0])\n",
    "        EPOCH-=1\n",
    "end = time.time()\n",
    "print(\"Took:\",end-start)"
   ]
  }
 ],
 "metadata": {
  "kernelspec": {
   "display_name": "Python 3 (ipykernel)",
   "language": "python",
   "name": "python3"
  },
  "language_info": {
   "codemirror_mode": {
    "name": "ipython",
    "version": 3
   },
   "file_extension": ".py",
   "mimetype": "text/x-python",
   "name": "python",
   "nbconvert_exporter": "python",
   "pygments_lexer": "ipython3",
   "version": "3.9.7"
  }
 },
 "nbformat": 4,
 "nbformat_minor": 5
}
